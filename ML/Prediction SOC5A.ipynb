{
 "cells": [
  {
   "cell_type": "code",
   "execution_count": 1,
   "metadata": {},
   "outputs": [],
   "source": [
    "import pandas as pd\n",
    "from sklearn.metrics import accuracy_score\n",
    "from sklearn.metrics import classification_report\n",
    "from sklearn.metrics import auc\n",
    "from sklearn.metrics import f1_score\n",
    "from sklearn.metrics import confusion_matrix\n",
    "from sklearn.metrics import roc_curve\n",
    "from sklearn.metrics import roc_auc_score\n",
    "from sklearn.metrics import precision_recall_curve\n",
    "from sklearn.ensemble import RandomForestRegressor\n",
    "rf = RandomForestRegressor(random_state = 42)\n",
    "from pprint import pprint"
   ]
  },
  {
   "cell_type": "code",
   "execution_count": 2,
   "metadata": {},
   "outputs": [],
   "source": [
    "df = pd.read_csv('Mb_Aprl_May_DataforBN.csv')"
   ]
  },
  {
   "cell_type": "code",
   "execution_count": 3,
   "metadata": {},
   "outputs": [
    {
     "data": {
      "text/html": [
       "<div>\n",
       "<style scoped>\n",
       "    .dataframe tbody tr th:only-of-type {\n",
       "        vertical-align: middle;\n",
       "    }\n",
       "\n",
       "    .dataframe tbody tr th {\n",
       "        vertical-align: top;\n",
       "    }\n",
       "\n",
       "    .dataframe thead th {\n",
       "        text-align: right;\n",
       "    }\n",
       "</style>\n",
       "<table border=\"1\" class=\"dataframe\">\n",
       "  <thead>\n",
       "    <tr style=\"text-align: right;\">\n",
       "      <th></th>\n",
       "      <th>SOC5B</th>\n",
       "      <th>SOC5C</th>\n",
       "      <th>SOC5D</th>\n",
       "      <th>PHYS3H</th>\n",
       "      <th>AGE4</th>\n",
       "      <th>SOC5A</th>\n",
       "      <th>SOC5E</th>\n",
       "      <th>PHYS7_4</th>\n",
       "      <th>PHYS2_18</th>\n",
       "    </tr>\n",
       "  </thead>\n",
       "  <tbody>\n",
       "    <tr>\n",
       "      <th>0</th>\n",
       "      <td>(1) Not at all or less than 1 day</td>\n",
       "      <td>(1) Not at all or less than 1 day</td>\n",
       "      <td>(2) 1-2 days</td>\n",
       "      <td>(1) Yes</td>\n",
       "      <td>(2) 30-44</td>\n",
       "      <td>(1) Not at all or less than 1 day</td>\n",
       "      <td>(2) 1-2 days</td>\n",
       "      <td>(0) No</td>\n",
       "      <td>(1) Yes</td>\n",
       "    </tr>\n",
       "    <tr>\n",
       "      <th>1</th>\n",
       "      <td>(1) Not at all or less than 1 day</td>\n",
       "      <td>(1) Not at all or less than 1 day</td>\n",
       "      <td>(1) Not at all or less than 1 day</td>\n",
       "      <td>(2) No</td>\n",
       "      <td>(4) 60+</td>\n",
       "      <td>(1) Not at all or less than 1 day</td>\n",
       "      <td>(1) Not at all or less than 1 day</td>\n",
       "      <td>(1) Yes</td>\n",
       "      <td>(0) No</td>\n",
       "    </tr>\n",
       "    <tr>\n",
       "      <th>2</th>\n",
       "      <td>(1) Not at all or less than 1 day</td>\n",
       "      <td>(1) Not at all or less than 1 day</td>\n",
       "      <td>(2) 1-2 days</td>\n",
       "      <td>(2) No</td>\n",
       "      <td>(4) 60+</td>\n",
       "      <td>(1) Not at all or less than 1 day</td>\n",
       "      <td>(1) Not at all or less than 1 day</td>\n",
       "      <td>(1) Yes</td>\n",
       "      <td>(0) No</td>\n",
       "    </tr>\n",
       "    <tr>\n",
       "      <th>3</th>\n",
       "      <td>(1) Not at all or less than 1 day</td>\n",
       "      <td>(2) 1-2 days</td>\n",
       "      <td>(1) Not at all or less than 1 day</td>\n",
       "      <td>(1) Yes</td>\n",
       "      <td>(4) 60+</td>\n",
       "      <td>(1) Not at all or less than 1 day</td>\n",
       "      <td>(1) Not at all or less than 1 day</td>\n",
       "      <td>(1) Yes</td>\n",
       "      <td>(0) No</td>\n",
       "    </tr>\n",
       "    <tr>\n",
       "      <th>4</th>\n",
       "      <td>(1) Not at all or less than 1 day</td>\n",
       "      <td>(1) Not at all or less than 1 day</td>\n",
       "      <td>(1) Not at all or less than 1 day</td>\n",
       "      <td>(2) No</td>\n",
       "      <td>(4) 60+</td>\n",
       "      <td>(1) Not at all or less than 1 day</td>\n",
       "      <td>(1) Not at all or less than 1 day</td>\n",
       "      <td>(1) Yes</td>\n",
       "      <td>(0) No</td>\n",
       "    </tr>\n",
       "  </tbody>\n",
       "</table>\n",
       "</div>"
      ],
      "text/plain": [
       "                               SOC5B                              SOC5C  \\\n",
       "0  (1) Not at all or less than 1 day  (1) Not at all or less than 1 day   \n",
       "1  (1) Not at all or less than 1 day  (1) Not at all or less than 1 day   \n",
       "2  (1) Not at all or less than 1 day  (1) Not at all or less than 1 day   \n",
       "3  (1) Not at all or less than 1 day                       (2) 1-2 days   \n",
       "4  (1) Not at all or less than 1 day  (1) Not at all or less than 1 day   \n",
       "\n",
       "                               SOC5D   PHYS3H       AGE4  \\\n",
       "0                       (2) 1-2 days  (1) Yes  (2) 30-44   \n",
       "1  (1) Not at all or less than 1 day   (2) No    (4) 60+   \n",
       "2                       (2) 1-2 days   (2) No    (4) 60+   \n",
       "3  (1) Not at all or less than 1 day  (1) Yes    (4) 60+   \n",
       "4  (1) Not at all or less than 1 day   (2) No    (4) 60+   \n",
       "\n",
       "                               SOC5A                              SOC5E  \\\n",
       "0  (1) Not at all or less than 1 day                       (2) 1-2 days   \n",
       "1  (1) Not at all or less than 1 day  (1) Not at all or less than 1 day   \n",
       "2  (1) Not at all or less than 1 day  (1) Not at all or less than 1 day   \n",
       "3  (1) Not at all or less than 1 day  (1) Not at all or less than 1 day   \n",
       "4  (1) Not at all or less than 1 day  (1) Not at all or less than 1 day   \n",
       "\n",
       "   PHYS7_4 PHYS2_18  \n",
       "0   (0) No  (1) Yes  \n",
       "1  (1) Yes   (0) No  \n",
       "2  (1) Yes   (0) No  \n",
       "3  (1) Yes   (0) No  \n",
       "4  (1) Yes   (0) No  "
      ]
     },
     "execution_count": 3,
     "metadata": {},
     "output_type": "execute_result"
    }
   ],
   "source": [
    "df.head()"
   ]
  },
  {
   "cell_type": "code",
   "execution_count": 4,
   "metadata": {},
   "outputs": [
    {
     "data": {
      "text/plain": [
       "Index(['SOC5B', 'SOC5C', 'SOC5D', 'PHYS3H', 'AGE4', 'SOC5A', 'SOC5E',\n",
       "       'PHYS7_4', 'PHYS2_18'],\n",
       "      dtype='object')"
      ]
     },
     "execution_count": 4,
     "metadata": {},
     "output_type": "execute_result"
    }
   ],
   "source": [
    "df.columns"
   ]
  },
  {
   "cell_type": "code",
   "execution_count": 5,
   "metadata": {},
   "outputs": [],
   "source": [
    "df = df[['SOC5A','AGE4','PHYS7_4','PHYS2_18','PHYS3H']]"
   ]
  },
  {
   "cell_type": "code",
   "execution_count": 6,
   "metadata": {},
   "outputs": [],
   "source": [
    "from collections import Counter"
   ]
  },
  {
   "cell_type": "code",
   "execution_count": 7,
   "metadata": {},
   "outputs": [
    {
     "data": {
      "text/plain": [
       "Counter({'(1) Not at all or less than 1 day': 11067,\n",
       "         '(2) 1-2 days': 3893,\n",
       "         '(3) 3-4 days': 1600,\n",
       "         '(4) 5-7 days': 1131,\n",
       "         \"(77) DON'T KNOW\": 15,\n",
       "         '(98) SKIPPED ON WEB': 56,\n",
       "         '(99) REFUSED': 2})"
      ]
     },
     "execution_count": 7,
     "metadata": {},
     "output_type": "execute_result"
    }
   ],
   "source": [
    "Counter(df['SOC5A'])"
   ]
  },
  {
   "cell_type": "code",
   "execution_count": 8,
   "metadata": {},
   "outputs": [
    {
     "data": {
      "text/plain": [
       "(17764, 5)"
      ]
     },
     "execution_count": 8,
     "metadata": {},
     "output_type": "execute_result"
    }
   ],
   "source": [
    "df.shape"
   ]
  },
  {
   "cell_type": "code",
   "execution_count": 9,
   "metadata": {},
   "outputs": [],
   "source": [
    "df = df[~df['SOC5A'].isin([\"(77) DON'T KNOW\",'(98) SKIPPED ON WEB','(99) REFUSED','(2) 1-2 days','(3) 3-4 days'])]\n"
   ]
  },
  {
   "cell_type": "code",
   "execution_count": 10,
   "metadata": {},
   "outputs": [
    {
     "data": {
      "text/plain": [
       "(12198, 5)"
      ]
     },
     "execution_count": 10,
     "metadata": {},
     "output_type": "execute_result"
    }
   ],
   "source": [
    "df.shape"
   ]
  },
  {
   "cell_type": "code",
   "execution_count": 11,
   "metadata": {},
   "outputs": [],
   "source": [
    "df['SOC5A']=df['SOC5A'].replace('(1) Not at all or less than 1 day', 1)\n"
   ]
  },
  {
   "cell_type": "code",
   "execution_count": 12,
   "metadata": {},
   "outputs": [
    {
     "data": {
      "text/html": [
       "<div>\n",
       "<style scoped>\n",
       "    .dataframe tbody tr th:only-of-type {\n",
       "        vertical-align: middle;\n",
       "    }\n",
       "\n",
       "    .dataframe tbody tr th {\n",
       "        vertical-align: top;\n",
       "    }\n",
       "\n",
       "    .dataframe thead th {\n",
       "        text-align: right;\n",
       "    }\n",
       "</style>\n",
       "<table border=\"1\" class=\"dataframe\">\n",
       "  <thead>\n",
       "    <tr style=\"text-align: right;\">\n",
       "      <th></th>\n",
       "      <th>SOC5A</th>\n",
       "      <th>AGE4</th>\n",
       "      <th>PHYS7_4</th>\n",
       "      <th>PHYS2_18</th>\n",
       "      <th>PHYS3H</th>\n",
       "    </tr>\n",
       "  </thead>\n",
       "  <tbody>\n",
       "    <tr>\n",
       "      <th>0</th>\n",
       "      <td>1</td>\n",
       "      <td>(2) 30-44</td>\n",
       "      <td>(0) No</td>\n",
       "      <td>(1) Yes</td>\n",
       "      <td>(1) Yes</td>\n",
       "    </tr>\n",
       "    <tr>\n",
       "      <th>1</th>\n",
       "      <td>1</td>\n",
       "      <td>(4) 60+</td>\n",
       "      <td>(1) Yes</td>\n",
       "      <td>(0) No</td>\n",
       "      <td>(2) No</td>\n",
       "    </tr>\n",
       "    <tr>\n",
       "      <th>2</th>\n",
       "      <td>1</td>\n",
       "      <td>(4) 60+</td>\n",
       "      <td>(1) Yes</td>\n",
       "      <td>(0) No</td>\n",
       "      <td>(2) No</td>\n",
       "    </tr>\n",
       "    <tr>\n",
       "      <th>3</th>\n",
       "      <td>1</td>\n",
       "      <td>(4) 60+</td>\n",
       "      <td>(1) Yes</td>\n",
       "      <td>(0) No</td>\n",
       "      <td>(1) Yes</td>\n",
       "    </tr>\n",
       "    <tr>\n",
       "      <th>4</th>\n",
       "      <td>1</td>\n",
       "      <td>(4) 60+</td>\n",
       "      <td>(1) Yes</td>\n",
       "      <td>(0) No</td>\n",
       "      <td>(2) No</td>\n",
       "    </tr>\n",
       "  </tbody>\n",
       "</table>\n",
       "</div>"
      ],
      "text/plain": [
       "  SOC5A       AGE4  PHYS7_4 PHYS2_18   PHYS3H\n",
       "0     1  (2) 30-44   (0) No  (1) Yes  (1) Yes\n",
       "1     1    (4) 60+  (1) Yes   (0) No   (2) No\n",
       "2     1    (4) 60+  (1) Yes   (0) No   (2) No\n",
       "3     1    (4) 60+  (1) Yes   (0) No  (1) Yes\n",
       "4     1    (4) 60+  (1) Yes   (0) No   (2) No"
      ]
     },
     "execution_count": 12,
     "metadata": {},
     "output_type": "execute_result"
    }
   ],
   "source": [
    "df.head()"
   ]
  },
  {
   "cell_type": "code",
   "execution_count": 13,
   "metadata": {},
   "outputs": [],
   "source": [
    "df.loc[df['SOC5A'] != 1, 'SOC5A'] = 0\n"
   ]
  },
  {
   "cell_type": "code",
   "execution_count": 14,
   "metadata": {},
   "outputs": [
    {
     "data": {
      "text/plain": [
       "Counter({1: 11067, 0: 1131})"
      ]
     },
     "execution_count": 14,
     "metadata": {},
     "output_type": "execute_result"
    }
   ],
   "source": [
    "Counter(df['SOC5A'])"
   ]
  },
  {
   "cell_type": "code",
   "execution_count": 15,
   "metadata": {},
   "outputs": [],
   "source": [
    "from sklearn.preprocessing import LabelEncoder \n",
    "import numpy as np\n",
    "le = LabelEncoder() \n",
    "df['AGE4']= le.fit_transform(df['AGE4']) \n",
    "df['PHYS7_4']= le.fit_transform(df['PHYS7_4']) \n",
    "df['PHYS2_18']= le.fit_transform(df['PHYS2_18']) \n",
    "df['PHYS3H']= le.fit_transform(df['PHYS3H']) \n",
    "\n"
   ]
  },
  {
   "cell_type": "code",
   "execution_count": 16,
   "metadata": {},
   "outputs": [
    {
     "data": {
      "text/html": [
       "<div>\n",
       "<style scoped>\n",
       "    .dataframe tbody tr th:only-of-type {\n",
       "        vertical-align: middle;\n",
       "    }\n",
       "\n",
       "    .dataframe tbody tr th {\n",
       "        vertical-align: top;\n",
       "    }\n",
       "\n",
       "    .dataframe thead th {\n",
       "        text-align: right;\n",
       "    }\n",
       "</style>\n",
       "<table border=\"1\" class=\"dataframe\">\n",
       "  <thead>\n",
       "    <tr style=\"text-align: right;\">\n",
       "      <th></th>\n",
       "      <th>SOC5A</th>\n",
       "      <th>AGE4</th>\n",
       "      <th>PHYS7_4</th>\n",
       "      <th>PHYS2_18</th>\n",
       "      <th>PHYS3H</th>\n",
       "    </tr>\n",
       "  </thead>\n",
       "  <tbody>\n",
       "    <tr>\n",
       "      <th>0</th>\n",
       "      <td>1</td>\n",
       "      <td>1</td>\n",
       "      <td>0</td>\n",
       "      <td>1</td>\n",
       "      <td>0</td>\n",
       "    </tr>\n",
       "    <tr>\n",
       "      <th>1</th>\n",
       "      <td>1</td>\n",
       "      <td>3</td>\n",
       "      <td>1</td>\n",
       "      <td>0</td>\n",
       "      <td>1</td>\n",
       "    </tr>\n",
       "    <tr>\n",
       "      <th>2</th>\n",
       "      <td>1</td>\n",
       "      <td>3</td>\n",
       "      <td>1</td>\n",
       "      <td>0</td>\n",
       "      <td>1</td>\n",
       "    </tr>\n",
       "    <tr>\n",
       "      <th>3</th>\n",
       "      <td>1</td>\n",
       "      <td>3</td>\n",
       "      <td>1</td>\n",
       "      <td>0</td>\n",
       "      <td>0</td>\n",
       "    </tr>\n",
       "    <tr>\n",
       "      <th>4</th>\n",
       "      <td>1</td>\n",
       "      <td>3</td>\n",
       "      <td>1</td>\n",
       "      <td>0</td>\n",
       "      <td>1</td>\n",
       "    </tr>\n",
       "  </tbody>\n",
       "</table>\n",
       "</div>"
      ],
      "text/plain": [
       "  SOC5A  AGE4  PHYS7_4  PHYS2_18  PHYS3H\n",
       "0     1     1        0         1       0\n",
       "1     1     3        1         0       1\n",
       "2     1     3        1         0       1\n",
       "3     1     3        1         0       0\n",
       "4     1     3        1         0       1"
      ]
     },
     "execution_count": 16,
     "metadata": {},
     "output_type": "execute_result"
    }
   ],
   "source": [
    "df.head()"
   ]
  },
  {
   "cell_type": "code",
   "execution_count": 17,
   "metadata": {},
   "outputs": [],
   "source": [
    "X = df[['AGE4','PHYS7_4','PHYS2_18','PHYS3H']]\n",
    "Y = df[['SOC5A']]\n",
    "\n",
    "\n"
   ]
  },
  {
   "cell_type": "code",
   "execution_count": 18,
   "metadata": {},
   "outputs": [],
   "source": [
    "Y=Y.astype('int')"
   ]
  },
  {
   "cell_type": "code",
   "execution_count": 19,
   "metadata": {},
   "outputs": [
    {
     "data": {
      "text/html": [
       "<div>\n",
       "<style scoped>\n",
       "    .dataframe tbody tr th:only-of-type {\n",
       "        vertical-align: middle;\n",
       "    }\n",
       "\n",
       "    .dataframe tbody tr th {\n",
       "        vertical-align: top;\n",
       "    }\n",
       "\n",
       "    .dataframe thead th {\n",
       "        text-align: right;\n",
       "    }\n",
       "</style>\n",
       "<table border=\"1\" class=\"dataframe\">\n",
       "  <thead>\n",
       "    <tr style=\"text-align: right;\">\n",
       "      <th></th>\n",
       "      <th>AGE4</th>\n",
       "      <th>PHYS7_4</th>\n",
       "      <th>PHYS2_18</th>\n",
       "      <th>PHYS3H</th>\n",
       "    </tr>\n",
       "  </thead>\n",
       "  <tbody>\n",
       "    <tr>\n",
       "      <th>0</th>\n",
       "      <td>1</td>\n",
       "      <td>0</td>\n",
       "      <td>1</td>\n",
       "      <td>0</td>\n",
       "    </tr>\n",
       "    <tr>\n",
       "      <th>1</th>\n",
       "      <td>3</td>\n",
       "      <td>1</td>\n",
       "      <td>0</td>\n",
       "      <td>1</td>\n",
       "    </tr>\n",
       "    <tr>\n",
       "      <th>2</th>\n",
       "      <td>3</td>\n",
       "      <td>1</td>\n",
       "      <td>0</td>\n",
       "      <td>1</td>\n",
       "    </tr>\n",
       "    <tr>\n",
       "      <th>3</th>\n",
       "      <td>3</td>\n",
       "      <td>1</td>\n",
       "      <td>0</td>\n",
       "      <td>0</td>\n",
       "    </tr>\n",
       "    <tr>\n",
       "      <th>4</th>\n",
       "      <td>3</td>\n",
       "      <td>1</td>\n",
       "      <td>0</td>\n",
       "      <td>1</td>\n",
       "    </tr>\n",
       "    <tr>\n",
       "      <th>...</th>\n",
       "      <td>...</td>\n",
       "      <td>...</td>\n",
       "      <td>...</td>\n",
       "      <td>...</td>\n",
       "    </tr>\n",
       "    <tr>\n",
       "      <th>17756</th>\n",
       "      <td>1</td>\n",
       "      <td>1</td>\n",
       "      <td>0</td>\n",
       "      <td>1</td>\n",
       "    </tr>\n",
       "    <tr>\n",
       "      <th>17757</th>\n",
       "      <td>3</td>\n",
       "      <td>1</td>\n",
       "      <td>0</td>\n",
       "      <td>1</td>\n",
       "    </tr>\n",
       "    <tr>\n",
       "      <th>17760</th>\n",
       "      <td>1</td>\n",
       "      <td>1</td>\n",
       "      <td>0</td>\n",
       "      <td>1</td>\n",
       "    </tr>\n",
       "    <tr>\n",
       "      <th>17761</th>\n",
       "      <td>1</td>\n",
       "      <td>1</td>\n",
       "      <td>0</td>\n",
       "      <td>1</td>\n",
       "    </tr>\n",
       "    <tr>\n",
       "      <th>17763</th>\n",
       "      <td>1</td>\n",
       "      <td>1</td>\n",
       "      <td>0</td>\n",
       "      <td>1</td>\n",
       "    </tr>\n",
       "  </tbody>\n",
       "</table>\n",
       "<p>12198 rows × 4 columns</p>\n",
       "</div>"
      ],
      "text/plain": [
       "       AGE4  PHYS7_4  PHYS2_18  PHYS3H\n",
       "0         1        0         1       0\n",
       "1         3        1         0       1\n",
       "2         3        1         0       1\n",
       "3         3        1         0       0\n",
       "4         3        1         0       1\n",
       "...     ...      ...       ...     ...\n",
       "17756     1        1         0       1\n",
       "17757     3        1         0       1\n",
       "17760     1        1         0       1\n",
       "17761     1        1         0       1\n",
       "17763     1        1         0       1\n",
       "\n",
       "[12198 rows x 4 columns]"
      ]
     },
     "execution_count": 19,
     "metadata": {},
     "output_type": "execute_result"
    }
   ],
   "source": [
    "X"
   ]
  },
  {
   "cell_type": "code",
   "execution_count": 20,
   "metadata": {},
   "outputs": [
    {
     "name": "stdout",
     "output_type": "stream",
     "text": [
      "(9758, 4)\n",
      "(2440, 4)\n"
     ]
    }
   ],
   "source": [
    "from sklearn.model_selection import train_test_split\n",
    "\n",
    "x_train,x_test,y_train,y_test = train_test_split(X,Y,test_size=0.20)\n",
    "print(x_train.shape)\n",
    "print(x_test.shape)"
   ]
  },
  {
   "cell_type": "code",
   "execution_count": 21,
   "metadata": {},
   "outputs": [
    {
     "data": {
      "text/plain": [
       "Counter({1: 8830, 0: 928})"
      ]
     },
     "execution_count": 21,
     "metadata": {},
     "output_type": "execute_result"
    }
   ],
   "source": [
    "Counter(y_train['SOC5A'])"
   ]
  },
  {
   "cell_type": "code",
   "execution_count": 22,
   "metadata": {
    "scrolled": true
   },
   "outputs": [],
   "source": [
    "#pip install imblearn -U"
   ]
  },
  {
   "cell_type": "code",
   "execution_count": 23,
   "metadata": {},
   "outputs": [],
   "source": [
    "from imblearn.over_sampling import RandomOverSampler\n",
    "from imblearn.under_sampling import RandomUnderSampler\n",
    "\n",
    "ros = RandomOverSampler(random_state=123)\n",
    "rus = RandomUnderSampler(random_state=0)\n",
    "from imblearn.over_sampling import SMOTE\n",
    "\n",
    "sm = SMOTE(random_state = 2) \n"
   ]
  },
  {
   "cell_type": "code",
   "execution_count": 24,
   "metadata": {},
   "outputs": [],
   "source": [
    "sx_train, sy_train = sm.fit_sample(x_train, y_train)\n"
   ]
  },
  {
   "cell_type": "code",
   "execution_count": 25,
   "metadata": {},
   "outputs": [
    {
     "data": {
      "text/plain": [
       "Counter({1: 8830, 0: 8830})"
      ]
     },
     "execution_count": 25,
     "metadata": {},
     "output_type": "execute_result"
    }
   ],
   "source": [
    "Counter(sy_train['SOC5A'])"
   ]
  },
  {
   "cell_type": "markdown",
   "metadata": {},
   "source": [
    "# Grid Search "
   ]
  },
  {
   "cell_type": "code",
   "execution_count": 26,
   "metadata": {},
   "outputs": [
    {
     "name": "stdout",
     "output_type": "stream",
     "text": [
      "{'bootstrap': [True, False],\n",
      " 'max_depth': [10, 20, 30, 40, 50, 60, 70, 80, 90, 100, 110, None],\n",
      " 'max_features': ['auto', 'sqrt'],\n",
      " 'min_samples_leaf': [1, 2, 4],\n",
      " 'min_samples_split': [2, 5, 10],\n",
      " 'n_estimators': [200, 400, 600, 800, 1000, 1200, 1400, 1600, 1800, 2000]}\n"
     ]
    }
   ],
   "source": [
    "from sklearn.model_selection import RandomizedSearchCV\n",
    "# Number of trees in random forest\n",
    "n_estimators = [int(x) for x in np.linspace(start = 200, stop = 2000, num = 10)]\n",
    "# Number of features to consider at every split\n",
    "max_features = ['auto', 'sqrt']\n",
    "# Maximum number of levels in tree\n",
    "max_depth = [int(x) for x in np.linspace(10, 110, num = 11)]\n",
    "max_depth.append(None)\n",
    "# Minimum number of samples required to split a node\n",
    "min_samples_split = [2, 5, 10]\n",
    "# Minimum number of samples required at each leaf node\n",
    "min_samples_leaf = [1, 2, 4]\n",
    "# Method of selecting samples for training each tree\n",
    "bootstrap = [True, False]\n",
    "# Create the random grid\n",
    "random_grid = {'n_estimators': n_estimators,\n",
    "               'max_features': max_features,\n",
    "               'max_depth': max_depth,\n",
    "               'min_samples_split': min_samples_split,\n",
    "               'min_samples_leaf': min_samples_leaf,\n",
    "               'bootstrap': bootstrap}\n",
    "pprint(random_grid)"
   ]
  },
  {
   "cell_type": "code",
   "execution_count": 27,
   "metadata": {
    "scrolled": true
   },
   "outputs": [
    {
     "name": "stdout",
     "output_type": "stream",
     "text": [
      "Fitting 5 folds for each of 50 candidates, totalling 250 fits\n"
     ]
    },
    {
     "name": "stderr",
     "output_type": "stream",
     "text": [
      "[Parallel(n_jobs=-1)]: Using backend LokyBackend with 4 concurrent workers.\n",
      "[Parallel(n_jobs=-1)]: Done  33 tasks      | elapsed:  1.4min\n",
      "[Parallel(n_jobs=-1)]: Done 154 tasks      | elapsed:  6.2min\n",
      "[Parallel(n_jobs=-1)]: Done 250 out of 250 | elapsed:  8.6min finished\n",
      "/usr/local/lib/python3.7/site-packages/sklearn/model_selection/_search.py:765: DataConversionWarning: A column-vector y was passed when a 1d array was expected. Please change the shape of y to (n_samples,), for example using ravel().\n",
      "  self.best_estimator_.fit(X, y, **fit_params)\n"
     ]
    },
    {
     "data": {
      "text/plain": [
       "RandomizedSearchCV(cv=5, estimator=RandomForestRegressor(), n_iter=50,\n",
       "                   n_jobs=-1,\n",
       "                   param_distributions={'bootstrap': [True, False],\n",
       "                                        'max_depth': [10, 20, 30, 40, 50, 60,\n",
       "                                                      70, 80, 90, 100, 110,\n",
       "                                                      None],\n",
       "                                        'max_features': ['auto', 'sqrt'],\n",
       "                                        'min_samples_leaf': [1, 2, 4],\n",
       "                                        'min_samples_split': [2, 5, 10],\n",
       "                                        'n_estimators': [200, 400, 600, 800,\n",
       "                                                         1000, 1200, 1400, 1600,\n",
       "                                                         1800, 2000]},\n",
       "                   random_state=42, verbose=2)"
      ]
     },
     "execution_count": 27,
     "metadata": {},
     "output_type": "execute_result"
    }
   ],
   "source": [
    "# Use the random grid to search for best hyperparameters\n",
    "# First create the base model to tune\n",
    "rf = RandomForestRegressor()\n",
    "# Random search of parameters, using 10 fold cross validation, \n",
    "# search across 100 different combinations, and use all available cores\n",
    "rf_random = RandomizedSearchCV(estimator = rf, param_distributions = random_grid, n_iter = 50, cv = 5, verbose=2, random_state=42, n_jobs = -1)\n",
    "# Fit the random search model\n",
    "rf_random.fit(sx_train, sy_train)"
   ]
  },
  {
   "cell_type": "code",
   "execution_count": 28,
   "metadata": {},
   "outputs": [
    {
     "data": {
      "text/plain": [
       "{'n_estimators': 1600,\n",
       " 'min_samples_split': 2,\n",
       " 'min_samples_leaf': 4,\n",
       " 'max_features': 'sqrt',\n",
       " 'max_depth': 10,\n",
       " 'bootstrap': True}"
      ]
     },
     "execution_count": 28,
     "metadata": {},
     "output_type": "execute_result"
    }
   ],
   "source": [
    "rf_random.best_params_\n"
   ]
  },
  {
   "cell_type": "code",
   "execution_count": 29,
   "metadata": {},
   "outputs": [
    {
     "name": "stderr",
     "output_type": "stream",
     "text": [
      "/usr/local/lib/python3.7/site-packages/ipykernel_launcher.py:6: DataConversionWarning: A column-vector y was passed when a 1d array was expected. Please change the shape of y to (n_samples,), for example using ravel().\n",
      "  \n"
     ]
    }
   ],
   "source": [
    "from sklearn.ensemble import RandomForestClassifier\n",
    "\n",
    "RF = RandomForestClassifier(n_estimators=1600,min_samples_split=2,min_samples_leaf=4,max_features='sqrt'\n",
    "                            ,max_depth=10,\n",
    "                            bootstrap=True)\n",
    "RF.fit(sx_train,sy_train)\n",
    "RF_predictions = RF.predict(x_test)"
   ]
  },
  {
   "cell_type": "code",
   "execution_count": 30,
   "metadata": {},
   "outputs": [
    {
     "name": "stdout",
     "output_type": "stream",
     "text": [
      "0.8020491803278689\n"
     ]
    }
   ],
   "source": [
    "RF_Accuracy = accuracy_score(y_test,RF_predictions)\n",
    "print(RF_Accuracy)"
   ]
  },
  {
   "cell_type": "code",
   "execution_count": 31,
   "metadata": {},
   "outputs": [
    {
     "name": "stdout",
     "output_type": "stream",
     "text": [
      "[[1820  387]\n",
      " [  96  137]]\n"
     ]
    }
   ],
   "source": [
    "S_cm = confusion_matrix(y_test, RF_predictions)\n",
    "print(S_cm)"
   ]
  },
  {
   "cell_type": "code",
   "execution_count": 32,
   "metadata": {},
   "outputs": [
    {
     "name": "stdout",
     "output_type": "stream",
     "text": [
      "Sensitivity :  0.8246488445854101\n",
      "Specificity :  0.5879828326180258\n"
     ]
    }
   ],
   "source": [
    "sensitivity = S_cm[0,0]/(S_cm[0,0]+S_cm[0,1])\n",
    "print('Sensitivity : ', sensitivity)\n",
    "\n",
    "specificity = S_cm[1,1]/(S_cm[1,0]+S_cm[1,1])\n",
    "print('Specificity : ', specificity)"
   ]
  },
  {
   "cell_type": "code",
   "execution_count": 33,
   "metadata": {
    "scrolled": true
   },
   "outputs": [
    {
     "name": "stdout",
     "output_type": "stream",
     "text": [
      "0.706315838601718\n",
      "0.44438873829624853\n"
     ]
    }
   ],
   "source": [
    "auroc = roc_auc_score(y_test, RF_predictions)\n",
    "print(auroc)\n",
    "\n",
    "precision, recall, thresholds = precision_recall_curve(y_test, RF_predictions)\n",
    "auprc = auc(recall, precision)\n",
    "print(auprc)"
   ]
  },
  {
   "cell_type": "markdown",
   "metadata": {},
   "source": [
    "# SVM "
   ]
  },
  {
   "cell_type": "code",
   "execution_count": 34,
   "metadata": {},
   "outputs": [
    {
     "name": "stderr",
     "output_type": "stream",
     "text": [
      "/usr/local/lib/python3.7/site-packages/sklearn/utils/validation.py:73: DataConversionWarning: A column-vector y was passed when a 1d array was expected. Please change the shape of y to (n_samples, ), for example using ravel().\n",
      "  return f(**kwargs)\n"
     ]
    }
   ],
   "source": [
    "from sklearn.svm import SVC\n",
    "\n",
    "svm = SVC()\n",
    "svm.fit(sx_train, sy_train)\n",
    "SVM_predictions = svm.predict(x_test)"
   ]
  },
  {
   "cell_type": "code",
   "execution_count": 35,
   "metadata": {},
   "outputs": [
    {
     "name": "stdout",
     "output_type": "stream",
     "text": [
      "0.8008196721311476\n"
     ]
    }
   ],
   "source": [
    "SVM_Accuracy = accuracy_score(y_test,SVM_predictions)\n",
    "print(SVM_Accuracy)"
   ]
  },
  {
   "cell_type": "code",
   "execution_count": 36,
   "metadata": {},
   "outputs": [
    {
     "name": "stdout",
     "output_type": "stream",
     "text": [
      "[[1815  392]\n",
      " [  94  139]]\n"
     ]
    }
   ],
   "source": [
    "S_cm = confusion_matrix(y_test, SVM_predictions)\n",
    "print(S_cm)"
   ]
  },
  {
   "cell_type": "code",
   "execution_count": 37,
   "metadata": {},
   "outputs": [
    {
     "name": "stdout",
     "output_type": "stream",
     "text": [
      "Sensitivity :  0.822383325781604\n",
      "Specificity :  0.5965665236051502\n"
     ]
    }
   ],
   "source": [
    "sensitivity = S_cm[0,0]/(S_cm[0,0]+S_cm[0,1])\n",
    "print('Sensitivity : ', sensitivity)\n",
    "\n",
    "specificity = S_cm[1,1]/(S_cm[1,0]+S_cm[1,1])\n",
    "print('Specificity : ', specificity)"
   ]
  },
  {
   "cell_type": "code",
   "execution_count": 38,
   "metadata": {},
   "outputs": [
    {
     "name": "stdout",
     "output_type": "stream",
     "text": [
      "0.709474924693377\n",
      "0.44843067929508845\n"
     ]
    }
   ],
   "source": [
    "auroc = roc_auc_score(y_test, SVM_predictions)\n",
    "print(auroc)\n",
    "\n",
    "precision, recall, thresholds = precision_recall_curve(y_test, SVM_predictions)\n",
    "auprc = auc(recall, precision)\n",
    "print(auprc)"
   ]
  },
  {
   "cell_type": "markdown",
   "metadata": {},
   "source": [
    "# Naive Bayes "
   ]
  },
  {
   "cell_type": "code",
   "execution_count": 39,
   "metadata": {},
   "outputs": [
    {
     "name": "stderr",
     "output_type": "stream",
     "text": [
      "/usr/local/lib/python3.7/site-packages/sklearn/utils/validation.py:73: DataConversionWarning: A column-vector y was passed when a 1d array was expected. Please change the shape of y to (n_samples, ), for example using ravel().\n",
      "  return f(**kwargs)\n"
     ]
    }
   ],
   "source": [
    "from sklearn.naive_bayes import GaussianNB\n",
    "NB = GaussianNB()\n",
    "NB.fit(sx_train, sy_train)\n",
    "NB_predictions = NB.predict(x_test)"
   ]
  },
  {
   "cell_type": "code",
   "execution_count": 40,
   "metadata": {},
   "outputs": [
    {
     "name": "stdout",
     "output_type": "stream",
     "text": [
      "0.7795081967213114\n"
     ]
    }
   ],
   "source": [
    "NB_Accuracy = accuracy_score(y_test,NB_predictions)\n",
    "print(NB_Accuracy)"
   ]
  },
  {
   "cell_type": "code",
   "execution_count": 41,
   "metadata": {},
   "outputs": [
    {
     "name": "stdout",
     "output_type": "stream",
     "text": [
      "[[1762  445]\n",
      " [  93  140]]\n"
     ]
    }
   ],
   "source": [
    "S_cm = confusion_matrix(y_test, NB_predictions)\n",
    "print(S_cm)"
   ]
  },
  {
   "cell_type": "code",
   "execution_count": 42,
   "metadata": {},
   "outputs": [
    {
     "name": "stdout",
     "output_type": "stream",
     "text": [
      "Sensitivity :  0.7983688264612596\n",
      "Specificity :  0.6008583690987125\n"
     ]
    }
   ],
   "source": [
    "sensitivity = S_cm[0,0]/(S_cm[0,0]+S_cm[0,1])\n",
    "print('Sensitivity : ', sensitivity)\n",
    "\n",
    "specificity = S_cm[1,1]/(S_cm[1,0]+S_cm[1,1])\n",
    "print('Specificity : ', specificity)"
   ]
  },
  {
   "cell_type": "code",
   "execution_count": 43,
   "metadata": {},
   "outputs": [
    {
     "name": "stdout",
     "output_type": "stream",
     "text": [
      "0.6996135977799861\n",
      "0.43914468125665623\n"
     ]
    }
   ],
   "source": [
    "auroc = roc_auc_score(y_test, NB_predictions)\n",
    "print(auroc)\n",
    "\n",
    "precision, recall, thresholds = precision_recall_curve(y_test, NB_predictions)\n",
    "auprc = auc(recall, precision)\n",
    "print(auprc)"
   ]
  },
  {
   "cell_type": "markdown",
   "metadata": {},
   "source": [
    "# Logistic Regression "
   ]
  },
  {
   "cell_type": "code",
   "execution_count": 44,
   "metadata": {},
   "outputs": [
    {
     "name": "stderr",
     "output_type": "stream",
     "text": [
      "/usr/local/lib/python3.7/site-packages/sklearn/utils/validation.py:73: DataConversionWarning: A column-vector y was passed when a 1d array was expected. Please change the shape of y to (n_samples, ), for example using ravel().\n",
      "  return f(**kwargs)\n"
     ]
    }
   ],
   "source": [
    "from sklearn.linear_model import LogisticRegression\n",
    "\n",
    "LR = LogisticRegression()\n",
    "LR.fit(sx_train, sy_train)\n",
    "LR_predictions = LR.predict(x_test)"
   ]
  },
  {
   "cell_type": "code",
   "execution_count": 45,
   "metadata": {},
   "outputs": [
    {
     "name": "stdout",
     "output_type": "stream",
     "text": [
      "0.7680327868852459\n"
     ]
    }
   ],
   "source": [
    "LR_Accuracy = accuracy_score(y_test,LR_predictions)\n",
    "print(LR_Accuracy)"
   ]
  },
  {
   "cell_type": "code",
   "execution_count": 46,
   "metadata": {},
   "outputs": [
    {
     "name": "stdout",
     "output_type": "stream",
     "text": [
      "[[1734  473]\n",
      " [  93  140]]\n"
     ]
    }
   ],
   "source": [
    "S_cm = confusion_matrix(y_test, LR_predictions)\n",
    "print(S_cm)"
   ]
  },
  {
   "cell_type": "code",
   "execution_count": 47,
   "metadata": {},
   "outputs": [
    {
     "name": "stdout",
     "output_type": "stream",
     "text": [
      "Sensitivity :  0.7856819211599456\n",
      "Specificity :  0.6008583690987125\n"
     ]
    }
   ],
   "source": [
    "sensitivity = S_cm[0,0]/(S_cm[0,0]+S_cm[0,1])\n",
    "print('Sensitivity : ', sensitivity)\n",
    "\n",
    "specificity = S_cm[1,1]/(S_cm[1,0]+S_cm[1,1])\n",
    "print('Specificity : ', specificity)"
   ]
  },
  {
   "cell_type": "code",
   "execution_count": 48,
   "metadata": {},
   "outputs": [
    {
     "name": "stdout",
     "output_type": "stream",
     "text": [
      "0.693270145129329\n",
      "0.4336790575202331\n"
     ]
    }
   ],
   "source": [
    "auroc = roc_auc_score(y_test, LR_predictions)\n",
    "print(auroc)\n",
    "\n",
    "precision, recall, thresholds = precision_recall_curve(y_test, LR_predictions)\n",
    "auprc = auc(recall, precision)\n",
    "print(auprc)"
   ]
  },
  {
   "cell_type": "code",
   "execution_count": null,
   "metadata": {},
   "outputs": [],
   "source": []
  },
  {
   "cell_type": "code",
   "execution_count": null,
   "metadata": {},
   "outputs": [],
   "source": []
  }
 ],
 "metadata": {
  "kernelspec": {
   "display_name": "Python 3",
   "language": "python",
   "name": "python3"
  },
  "language_info": {
   "codemirror_mode": {
    "name": "ipython",
    "version": 3
   },
   "file_extension": ".py",
   "mimetype": "text/x-python",
   "name": "python",
   "nbconvert_exporter": "python",
   "pygments_lexer": "ipython3",
   "version": "3.7.7"
  }
 },
 "nbformat": 4,
 "nbformat_minor": 4
}
